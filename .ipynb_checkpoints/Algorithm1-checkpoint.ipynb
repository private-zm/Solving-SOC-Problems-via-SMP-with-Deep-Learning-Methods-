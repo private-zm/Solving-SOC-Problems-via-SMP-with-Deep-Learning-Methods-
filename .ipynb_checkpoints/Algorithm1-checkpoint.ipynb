{
 "cells": [
  {
   "cell_type": "code",
   "execution_count": 13,
   "id": "3f9309a8",
   "metadata": {},
   "outputs": [],
   "source": [
    "import numpy as np"
   ]
  },
  {
   "cell_type": "code",
   "execution_count": 14,
   "id": "2536617d",
   "metadata": {},
   "outputs": [],
   "source": [
    "def phi(t, x, p , theta) :\n",
    "    return 0\n",
    "\n",
    "def argmaxH(t,x,p,q):\n",
    "    return 0\n",
    "\n",
    "def b(t, u ,x):\n",
    "    return -x/4 + u\n",
    "\n",
    "def sigma(t,u, x):\n",
    "    return 0\n",
    "\n"
   ]
  },
  {
   "cell_type": "code",
   "execution_count": 15,
   "id": "61b581f7",
   "metadata": {},
   "outputs": [
    {
     "ename": "SyntaxError",
     "evalue": "invalid syntax (1662511510.py, line 1)",
     "output_type": "error",
     "traceback": [
      "\u001b[0;36m  Cell \u001b[0;32mIn[15], line 1\u001b[0;36m\u001b[0m\n\u001b[0;31m    max_steps =\u001b[0m\n\u001b[0m                ^\u001b[0m\n\u001b[0;31mSyntaxError\u001b[0m\u001b[0;31m:\u001b[0m invalid syntax\n"
     ]
    }
   ],
   "source": [
    "max_steps = \n",
    "n = "
   ]
  },
  {
   "cell_type": "code",
   "execution_count": 16,
   "id": "3a69e9ab",
   "metadata": {},
   "outputs": [
    {
     "ename": "SyntaxError",
     "evalue": "invalid character '¡' (U+00A1) (3434837159.py, line 11)",
     "output_type": "error",
     "traceback": [
      "\u001b[0;36m  Cell \u001b[0;32mIn[16], line 11\u001b[0;36m\u001b[0m\n\u001b[0;31m    u[i] = argmaxH(t[i], x[i] , p[i] , q[¡])\u001b[0m\n\u001b[0m                                         ^\u001b[0m\n\u001b[0;31mSyntaxError\u001b[0m\u001b[0;31m:\u001b[0m invalid character '¡' (U+00A1)\n"
     ]
    }
   ],
   "source": [
    "t = np.arange(a,b,n)\n",
    "x = np.array([[0 for _ in range(n+1)] for _ in range(M)])\n",
    "p = np.array([[0 for _ in range(n+1)] for _ in range(M)])\n",
    "q = np.array([0 for _ in range(n)])\n",
    "u = np.array([0 for _ in range(n)])\n",
    "for l in range(max_steps):\n",
    "    x[0] = [x0 for _ in range(M)]\n",
    "    p[0] = [p0 for _ in range(M)]\n",
    "    for i in range(n):\n",
    "        q[i] = phi(t[i] , x[i] , p[i] , theta)\n",
    "        u[i] = argmaxH(t[i], x[i] , p[i] , q[¡])\n",
    "        for o in range(M)\n",
    "            x[i+1][o] = x[i] + b(t[i], x[i], u[i])*step + sigma(t[i], x[i], u[i])*sqrt(step)*random.normal()\n",
    "            p[i+1][o] = p[i] - H(t[i], x[i], u[i], p[i], q[i])*step + q[i]*sqrt(step)*random.normal()\n",
    "    J=0\n",
    "    for k in range(M):\n",
    "        J+=np.sum(f(t,x[k], u))*T/n + h(x[k][-1])\n",
    "    J/= M\n",
    "    loss = np.sum((h_x(x[:,-1]) + p[:,-1])*(h_x(x[:,-1]) + p[:,-1]))/M\n",
    "    theta , p[0] = theta - nu * gradient_loss\n",
    "\n",
    "#returns 4-tuple processes (x, u, p , q)_t\n",
    "        \n",
    "        \n",
    "    \n",
    "    \n",
    "    "
   ]
  }
 ],
 "metadata": {
  "kernelspec": {
   "display_name": "Python 3 (ipykernel)",
   "language": "python",
   "name": "python3"
  },
  "language_info": {
   "codemirror_mode": {
    "name": "ipython",
    "version": 3
   },
   "file_extension": ".py",
   "mimetype": "text/x-python",
   "name": "python",
   "nbconvert_exporter": "python",
   "pygments_lexer": "ipython3",
   "version": "3.11.4"
  }
 },
 "nbformat": 4,
 "nbformat_minor": 5
}
