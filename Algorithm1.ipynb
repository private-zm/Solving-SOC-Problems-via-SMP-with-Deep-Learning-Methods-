{
 "cells": [
  {
   "cell_type": "code",
   "execution_count": 38,
   "id": "87c3343a",
   "metadata": {},
   "outputs": [],
   "source": [
    "import numpy as np\n",
    "import torch  "
   ]
  },
  {
   "cell_type": "code",
   "execution_count": 21,
   "id": "69e8db68",
   "metadata": {},
   "outputs": [],
   "source": [
    "def phi(t, x, p , theta) :\n",
    "    return 0\n",
    "\n",
    "def argmaxH(t,x,p,q):\n",
    "    return 0\n",
    "\n",
    "def b(t, u ,x):\n",
    "    return -x/4 + u\n",
    "\n",
    "def sigma(t, u, x):\n",
    "    return x/5 + u\n",
    "\n",
    "def h(x):\n",
    "    return (np.dot(Q@x, x))/2\n",
    "    \n",
    "def f(t, x, u):\n",
    "    return (np.dot(x,x)/2 + np.dot(2*u , u))/2\n",
    "    \n",
    "def Hx(t, x , u , p , q):\n",
    "    return -p/4 + q/5 -x/2 \n",
    "\n"
   ]
  },
  {
   "cell_type": "code",
   "execution_count": 40,
   "id": "16980c45",
   "metadata": {},
   "outputs": [],
   "source": [
    "max_steps = 100\n",
    "n = 25\n",
    "M = 64\n",
    "T = 0.1\n",
    "Q = np.eye(n)\n",
    "p0 = -0.9586 \n",
    "x0 = 1\n",
    "d = 1"
   ]
  },
  {
   "cell_type": "code",
   "execution_count": 41,
   "id": "7be4f1f4",
   "metadata": {},
   "outputs": [],
   "source": [
    "import torch\n",
    "import torch.nn as nn\n",
    "import torch.nn.functional as F\n",
    "\n",
    "class CustomNeuralNetwork(nn.Module):\n",
    "    def __init__(self, n, d):\n",
    "        super(CustomNeuralNetwork, self).__init__()\n",
    "        \n",
    "        input_dim = 1 + n + n\n",
    "        hidden_dim = 10 + n + n\n",
    "        output_dim = n * d\n",
    "        \n",
    "        self.fc1 = nn.Linear(input_dim, hidden_dim)\n",
    "        self.fc2 = nn.Linear(hidden_dim, hidden_dim)\n",
    "        self.fc3 = nn.Linear(hidden_dim, hidden_dim)\n",
    "        self.fc4 = nn.Linear(hidden_dim, output_dim)\n",
    "        \n",
    "    def forward(self, x):\n",
    "        x = F.relu(self.fc1(x))\n",
    "        x = F.relu(self.fc2(x))\n",
    "        x = F.relu(self.fc3(x))\n",
    "        x = self.fc4(x)\n",
    "        return x\n",
    "\n",
    "\n"
   ]
  },
  {
   "cell_type": "code",
   "execution_count": 42,
   "id": "d2db4a45",
   "metadata": {},
   "outputs": [
    {
     "ename": "NameError",
     "evalue": "name 'theta' is not defined",
     "output_type": "error",
     "traceback": [
      "\u001b[0;31m---------------------------------------------------------------------------\u001b[0m",
      "\u001b[0;31mNameError\u001b[0m                                 Traceback (most recent call last)",
      "Cell \u001b[0;32mIn[42], line 12\u001b[0m\n\u001b[1;32m      9\u001b[0m x[:,\u001b[38;5;241m0\u001b[39m] \u001b[38;5;241m=\u001b[39m [x0 \u001b[38;5;28;01mfor\u001b[39;00m _ \u001b[38;5;129;01min\u001b[39;00m \u001b[38;5;28mrange\u001b[39m(M)]\n\u001b[1;32m     11\u001b[0m \u001b[38;5;28;01mfor\u001b[39;00m i \u001b[38;5;129;01min\u001b[39;00m \u001b[38;5;28mrange\u001b[39m(n):\n\u001b[0;32m---> 12\u001b[0m     q[i] \u001b[38;5;241m=\u001b[39m phi(t[i] , x[i] , p[i] , theta)\n\u001b[1;32m     13\u001b[0m     u[i] \u001b[38;5;241m=\u001b[39m argmaxH(t[i], x[i] , p[i] , q[i])\n\u001b[1;32m     14\u001b[0m     \u001b[38;5;28;01mfor\u001b[39;00m o \u001b[38;5;129;01min\u001b[39;00m \u001b[38;5;28mrange\u001b[39m(M):\n",
      "\u001b[0;31mNameError\u001b[0m: name 'theta' is not defined"
     ]
    }
   ],
   "source": [
    "t = np.arange(0,T,n)\n",
    "x = np.array([[0 for _ in range(n+1)] for _ in range(M)])\n",
    "p = np.array([[0 for _ in range(n+1)] for _ in range(M)])\n",
    "q = np.array([0 for _ in range(n)])\n",
    "u = np.array([0 for _ in range(n)])\n",
    "p[:,0] = [p0 for _ in range(M)]\n",
    "phi = CustomNeuralNetwork(n, d)\n",
    "for l in range(max_steps):\n",
    "    x[:,0] = [x0 for _ in range(M)]\n",
    "    \n",
    "    for i in range(n):\n",
    "        q[i] = phi(t[i] , x[i] , p[i] , theta)\n",
    "        u[i] = argmaxH(t[i], x[i] , p[i] , q[i])\n",
    "        for o in range(M):\n",
    "            x[i+1][o] = x[i] + b(t[i], x[i], u[i])*step + sigma(t[i], x[i], u[i])*sqrt(step)*random.normal()\n",
    "            p[i+1][o] = p[i] - Hx(t[i], x[i], u[i], p[i], q[i])*step + q[i]*sqrt(step)*random.normal()\n",
    "    J=0\n",
    "    for k in range(M):\n",
    "        J+=np.sum(f(t,x[k], u))*T/n + h(x[k][-1])\n",
    "    J/= M\n",
    "    loss = np.sum((np.square(h_x(x[:,-1]) + p[:,-1])))/M\n",
    "    theta , p[0] = theta - nu * gradient_loss\n",
    "\n",
    "#returns 4-tuple processes (x, u, p , q)_t\n",
    "        \n",
    "        \n",
    "    \n",
    "    \n",
    "    "
   ]
  },
  {
   "cell_type": "code",
   "execution_count": 29,
   "id": "a72a8193",
   "metadata": {},
   "outputs": [
    {
     "data": {
      "text/plain": [
       "array([-0.9586, -0.9586, -0.9586, -0.9586, -0.9586, -0.9586, -0.9586,\n",
       "       -0.9586, -0.9586, -0.9586, -0.9586, -0.9586, -0.9586, -0.9586,\n",
       "       -0.9586, -0.9586, -0.9586, -0.9586, -0.9586, -0.9586, -0.9586,\n",
       "       -0.9586, -0.9586, -0.9586, -0.9586])"
      ]
     },
     "execution_count": 29,
     "metadata": {},
     "output_type": "execute_result"
    }
   ],
   "source": [
    "p0"
   ]
  },
  {
   "cell_type": "code",
   "execution_count": null,
   "id": "b1cfea08",
   "metadata": {},
   "outputs": [],
   "source": []
  }
 ],
 "metadata": {
  "kernelspec": {
   "display_name": "Python 3 (ipykernel)",
   "language": "python",
   "name": "python3"
  },
  "language_info": {
   "codemirror_mode": {
    "name": "ipython",
    "version": 3
   },
   "file_extension": ".py",
   "mimetype": "text/x-python",
   "name": "python",
   "nbconvert_exporter": "python",
   "pygments_lexer": "ipython3",
   "version": "3.11.4"
  }
 },
 "nbformat": 4,
 "nbformat_minor": 5
}
