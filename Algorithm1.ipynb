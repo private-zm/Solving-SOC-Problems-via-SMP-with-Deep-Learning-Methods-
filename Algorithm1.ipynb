{
 "cells": [
  {
   "cell_type": "code",
   "execution_count": 38,
   "id": "24220bf9",
   "metadata": {},
   "outputs": [],
   "source": [
    "import numpy as np\n",
    "import torch  "
   ]
  },
  {
   "cell_type": "code",
   "execution_count": 48,
   "id": "da7eba3b",
   "metadata": {},
   "outputs": [],
   "source": [
    "def phi(t, x, p , theta) :\n",
    "    return 0\n",
    "\n",
    "def argmaxH(t,x,p,q):\n",
    "    return 0\n",
    "\n",
    "def b(t, u ,x):\n",
    "    return -x/4 + u\n",
    "\n",
    "def sigma(t, u, x):\n",
    "    return x/5 + u\n",
    "\n",
    "def h(x):\n",
    "    return (np.dot(Q@x, x))/2\n",
    "    \n",
    "def f(t, x, u):\n",
    "    return (np.dot(x,x)/2 + np.dot(2*u , u))/2\n",
    "    \n",
    "def Hx(t, x , u , p , q):\n",
    "    return -p/4 + q/5 -x/2 \n",
    "\n",
    "def argmaxH(x,p,q): \n",
    "    return -np.dot(x/2,x)/2 + np.dot(p,-x/4) + np.dot(q, x/5) + np.dot(p+q , p+q)/4\n"
   ]
  },
  {
   "cell_type": "code",
   "execution_count": 49,
   "id": "1b571556",
   "metadata": {},
   "outputs": [],
   "source": [
    "max_steps = 100\n",
    "n = 25\n",
    "M = 64\n",
    "T = 0.1\n",
    "Q = np.eye(n)\n",
    "p0 = -0.9586 \n",
    "x0 = 1\n",
    "d = 1"
   ]
  },
  {
   "cell_type": "code",
   "execution_count": 58,
   "id": "20925e86",
   "metadata": {},
   "outputs": [],
   "source": [
    "import torch\n",
    "import torch.nn as nn\n",
    "import torch.nn.functional as F\n",
    "\n",
    "class CustomNeuralNetwork(nn.Module):\n",
    "    def __init__(self, n, d):\n",
    "        super(CustomNeuralNetwork, self).__init__()\n",
    "        \n",
    "        input_dim = 1 + n + n\n",
    "        hidden_dim = 10 + n + n\n",
    "        output_dim = n * d\n",
    "        \n",
    "        self.fc1 = nn.Linear(input_dim, hidden_dim)\n",
    "        self.fc2 = nn.Linear(hidden_dim, hidden_dim)\n",
    "        self.fc3 = nn.Linear(hidden_dim, hidden_dim)\n",
    "        self.fc4 = nn.Linear(hidden_dim, output_dim)\n",
    "        \n",
    "    def forward(self, t, x, p):\n",
    "        print(f\"t shape: {t.shape}\")  # Vérifier la taille de t\n",
    "        print(f\"x shape: {x.shape}\")  # Vérifier la taille de x\n",
    "        print(f\"p shape: {p.shape}\")  # Vérifier la taille de p\n",
    "\n",
    "        input_tensor = torch.cat((t.unsqueeze(1), x, p), dim=-1)  # Correction ici\n",
    "\n",
    "        print(f\"input_tensor shape: {input_tensor.shape}\")  # Vérifier la taille de l'entrée finale\n",
    "\n",
    "        x = F.relu(self.fc1(input_tensor))\n",
    "        x = F.relu(self.fc2(x))\n",
    "        x = F.relu(self.fc3(x))\n",
    "        return self.fc4(x)\n",
    "\n",
    "\n"
   ]
  },
  {
   "cell_type": "code",
   "execution_count": 59,
   "id": "e3f393ed",
   "metadata": {},
   "outputs": [
    {
     "name": "stdout",
     "output_type": "stream",
     "text": [
      "t shape: torch.Size([])\n",
      "x shape: torch.Size([64])\n",
      "p shape: torch.Size([64])\n"
     ]
    },
    {
     "ename": "IndexError",
     "evalue": "Dimension out of range (expected to be in range of [-1, 0], but got 1)",
     "output_type": "error",
     "traceback": [
      "\u001b[0;31m---------------------------------------------------------------------------\u001b[0m",
      "\u001b[0;31mIndexError\u001b[0m                                Traceback (most recent call last)",
      "Cell \u001b[0;32mIn[59], line 27\u001b[0m\n\u001b[1;32m     24\u001b[0m x_i \u001b[38;5;241m=\u001b[39m torch\u001b[38;5;241m.\u001b[39mtensor(x[:, i], dtype\u001b[38;5;241m=\u001b[39mtorch\u001b[38;5;241m.\u001b[39mfloat32)\n\u001b[1;32m     25\u001b[0m p_i \u001b[38;5;241m=\u001b[39m torch\u001b[38;5;241m.\u001b[39mtensor(p[:, i], dtype\u001b[38;5;241m=\u001b[39mtorch\u001b[38;5;241m.\u001b[39mfloat32)\n\u001b[0;32m---> 27\u001b[0m q[i] \u001b[38;5;241m=\u001b[39m phi(t_i, x_i, p_i)\u001b[38;5;241m.\u001b[39mdetach()\u001b[38;5;241m.\u001b[39mnumpy()\n\u001b[1;32m     28\u001b[0m u[i] \u001b[38;5;241m=\u001b[39m argmaxH(t[i], x[i], p[i], q[i])\n\u001b[1;32m     30\u001b[0m \u001b[38;5;28;01mfor\u001b[39;00m o \u001b[38;5;129;01min\u001b[39;00m \u001b[38;5;28mrange\u001b[39m(M):\n",
      "File \u001b[0;32m~/anaconda3/lib/python3.11/site-packages/torch/nn/modules/module.py:1501\u001b[0m, in \u001b[0;36mModule._call_impl\u001b[0;34m(self, *args, **kwargs)\u001b[0m\n\u001b[1;32m   1496\u001b[0m \u001b[38;5;66;03m# If we don't have any hooks, we want to skip the rest of the logic in\u001b[39;00m\n\u001b[1;32m   1497\u001b[0m \u001b[38;5;66;03m# this function, and just call forward.\u001b[39;00m\n\u001b[1;32m   1498\u001b[0m \u001b[38;5;28;01mif\u001b[39;00m \u001b[38;5;129;01mnot\u001b[39;00m (\u001b[38;5;28mself\u001b[39m\u001b[38;5;241m.\u001b[39m_backward_hooks \u001b[38;5;129;01mor\u001b[39;00m \u001b[38;5;28mself\u001b[39m\u001b[38;5;241m.\u001b[39m_backward_pre_hooks \u001b[38;5;129;01mor\u001b[39;00m \u001b[38;5;28mself\u001b[39m\u001b[38;5;241m.\u001b[39m_forward_hooks \u001b[38;5;129;01mor\u001b[39;00m \u001b[38;5;28mself\u001b[39m\u001b[38;5;241m.\u001b[39m_forward_pre_hooks\n\u001b[1;32m   1499\u001b[0m         \u001b[38;5;129;01mor\u001b[39;00m _global_backward_pre_hooks \u001b[38;5;129;01mor\u001b[39;00m _global_backward_hooks\n\u001b[1;32m   1500\u001b[0m         \u001b[38;5;129;01mor\u001b[39;00m _global_forward_hooks \u001b[38;5;129;01mor\u001b[39;00m _global_forward_pre_hooks):\n\u001b[0;32m-> 1501\u001b[0m     \u001b[38;5;28;01mreturn\u001b[39;00m forward_call(\u001b[38;5;241m*\u001b[39margs, \u001b[38;5;241m*\u001b[39m\u001b[38;5;241m*\u001b[39mkwargs)\n\u001b[1;32m   1502\u001b[0m \u001b[38;5;66;03m# Do not call functions when jit is used\u001b[39;00m\n\u001b[1;32m   1503\u001b[0m full_backward_hooks, non_full_backward_hooks \u001b[38;5;241m=\u001b[39m [], []\n",
      "Cell \u001b[0;32mIn[58], line 23\u001b[0m, in \u001b[0;36mCustomNeuralNetwork.forward\u001b[0;34m(self, t, x, p)\u001b[0m\n\u001b[1;32m     20\u001b[0m \u001b[38;5;28mprint\u001b[39m(\u001b[38;5;124mf\u001b[39m\u001b[38;5;124m\"\u001b[39m\u001b[38;5;124mx shape: \u001b[39m\u001b[38;5;132;01m{\u001b[39;00mx\u001b[38;5;241m.\u001b[39mshape\u001b[38;5;132;01m}\u001b[39;00m\u001b[38;5;124m\"\u001b[39m)  \u001b[38;5;66;03m# Vérifier la taille de x\u001b[39;00m\n\u001b[1;32m     21\u001b[0m \u001b[38;5;28mprint\u001b[39m(\u001b[38;5;124mf\u001b[39m\u001b[38;5;124m\"\u001b[39m\u001b[38;5;124mp shape: \u001b[39m\u001b[38;5;132;01m{\u001b[39;00mp\u001b[38;5;241m.\u001b[39mshape\u001b[38;5;132;01m}\u001b[39;00m\u001b[38;5;124m\"\u001b[39m)  \u001b[38;5;66;03m# Vérifier la taille de p\u001b[39;00m\n\u001b[0;32m---> 23\u001b[0m input_tensor \u001b[38;5;241m=\u001b[39m torch\u001b[38;5;241m.\u001b[39mcat((t\u001b[38;5;241m.\u001b[39munsqueeze(\u001b[38;5;241m1\u001b[39m), x, p), dim\u001b[38;5;241m=\u001b[39m\u001b[38;5;241m-\u001b[39m\u001b[38;5;241m1\u001b[39m)  \u001b[38;5;66;03m# Correction ici\u001b[39;00m\n\u001b[1;32m     25\u001b[0m \u001b[38;5;28mprint\u001b[39m(\u001b[38;5;124mf\u001b[39m\u001b[38;5;124m\"\u001b[39m\u001b[38;5;124minput_tensor shape: \u001b[39m\u001b[38;5;132;01m{\u001b[39;00minput_tensor\u001b[38;5;241m.\u001b[39mshape\u001b[38;5;132;01m}\u001b[39;00m\u001b[38;5;124m\"\u001b[39m)  \u001b[38;5;66;03m# Vérifier la taille de l'entrée finale\u001b[39;00m\n\u001b[1;32m     27\u001b[0m x \u001b[38;5;241m=\u001b[39m F\u001b[38;5;241m.\u001b[39mrelu(\u001b[38;5;28mself\u001b[39m\u001b[38;5;241m.\u001b[39mfc1(input_tensor))\n",
      "\u001b[0;31mIndexError\u001b[0m: Dimension out of range (expected to be in range of [-1, 0], but got 1)"
     ]
    }
   ],
   "source": [
    "import torch\n",
    "import numpy as np\n",
    "\n",
    "\n",
    "\n",
    "# Initialisation\n",
    "t = np.arange(0, T, step)\n",
    "x = np.zeros((M, n+1))\n",
    "p = np.zeros((M, n+1))\n",
    "q = np.zeros(n)\n",
    "u = np.zeros(n)\n",
    "p[:, 0] = p0  # p0 doit être défini quelque part\n",
    "\n",
    "# Initialisation du réseau et de l'optimiseur\n",
    "phi = CustomNeuralNetwork(n, d)\n",
    "optimizer = torch.optim.Adam(phi.parameters(), lr=nu)\n",
    "criterion = torch.nn.MSELoss()\n",
    "\n",
    "for l in range(max_steps):\n",
    "    x[:, 0] = x0  # x0 doit être défini\n",
    "\n",
    "    for i in range(n):\n",
    "        t_i = torch.tensor(t[i], dtype=torch.float32)\n",
    "        x_i = torch.tensor(x[:, i], dtype=torch.float32)\n",
    "        p_i = torch.tensor(p[:, i], dtype=torch.float32)\n",
    "\n",
    "        q[i] = phi(t_i, x_i, p_i).detach().numpy()\n",
    "        u[i] = argmaxH(t[i], x[i], p[i], q[i])\n",
    "\n",
    "        for o in range(M):\n",
    "            x[o, i+1] = x[o, i] + b(t[i], x[o, i], u[i]) * step + sigma(t[i], x[o, i], u[i]) * np.sqrt(step) * np.random.normal()\n",
    "            p[o, i+1] = p[o, i] - Hx(t[i], x[o, i], u[i], p[o, i], q[i]) * step + q[i] * np.sqrt(step) * np.random.normal()\n",
    "\n",
    "    # Calcul du coût J\n",
    "    J = np.mean([np.sum(f(t, x[k], u)) * T/n + h(x[k, -1]) for k in range(M)])\n",
    "\n",
    "    # Calcul de la loss\n",
    "    h_x_final = h_x(torch.tensor(x[:, -1], dtype=torch.float32))\n",
    "    p_final = torch.tensor(p[:, -1], dtype=torch.float32)\n",
    "    loss = criterion(h_x_final + p_final, torch.zeros_like(h_x_final))\n",
    "\n",
    "    # Mise à jour des paramètres du modèle\n",
    "    optimizer.zero_grad()  # Réinitialisation des gradients\n",
    "    loss.backward()  # Calcul des gradients\n",
    "    optimizer.step()  # Mise à jour des paramètres du réseau (theta)"
   ]
  },
  {
   "cell_type": "code",
   "execution_count": 44,
   "id": "76c74449",
   "metadata": {},
   "outputs": [
    {
     "data": {
      "text/plain": [
       "'\\nt = np.arange(0,T,n)\\nx = np.array([[0 for _ in range(n+1)] for _ in range(M)])\\np = np.array([[0 for _ in range(n+1)] for _ in range(M)])\\nq = np.array([0 for _ in range(n)])\\nu = np.array([0 for _ in range(n)])\\np[:,0] = [p0 for _ in range(M)]\\nphi = CustomNeuralNetwork(n, d)\\nfor l in range(max_steps):\\n    x[:,0] = [x0 for _ in range(M)]\\n    \\n    for i in range(n):\\n        q[i] = phi(t[i] , x[i] , p[i] , theta)\\n        u[i] = argmaxH(t[i], x[i] , p[i] , q[i])\\n        for o in range(M):\\n            x[i+1][o] = x[i] + b(t[i], x[i], u[i])*step + sigma(t[i], x[i], u[i])*sqrt(step)*random.normal()\\n            p[i+1][o] = p[i] - Hx(t[i], x[i], u[i], p[i], q[i])*step + q[i]*sqrt(step)*random.normal()\\n    J=0\\n    for k in range(M):\\n        J+=np.sum(f(t,x[k], u))*T/n + h(x[k][-1])\\n    J/= M\\n    loss = np.sum((np.square(h_x(x[:,-1]) + p[:,-1])))/M\\n    theta , p[0] = theta - nu * gradient_loss\\n\\n#returns 4-tuple processes (x, u, p , q)_t\\n'"
      ]
     },
     "execution_count": 44,
     "metadata": {},
     "output_type": "execute_result"
    }
   ],
   "source": [
    "#Version Primitive du code en haut, marche pas \n",
    "\"\"\"\n",
    "t = np.arange(0,T,n)\n",
    "x = np.array([[0 for _ in range(n+1)] for _ in range(M)])\n",
    "p = np.array([[0 for _ in range(n+1)] for _ in range(M)])\n",
    "q = np.array([0 for _ in range(n)])\n",
    "u = np.array([0 for _ in range(n)])\n",
    "p[:,0] = [p0 for _ in range(M)]\n",
    "phi = CustomNeuralNetwork(n, d)\n",
    "for l in range(max_steps):\n",
    "    x[:,0] = [x0 for _ in range(M)]\n",
    "    \n",
    "    for i in range(n):\n",
    "        q[i] = phi(t[i] , x[i] , p[i] , theta)\n",
    "        u[i] = argmaxH(t[i], x[i] , p[i] , q[i])\n",
    "        for o in range(M):\n",
    "            x[i+1][o] = x[i] + b(t[i], x[i], u[i])*step + sigma(t[i], x[i], u[i])*sqrt(step)*random.normal()\n",
    "            p[i+1][o] = p[i] - Hx(t[i], x[i], u[i], p[i], q[i])*step + q[i]*sqrt(step)*random.normal()\n",
    "    J=0\n",
    "    for k in range(M):\n",
    "        J+=np.sum(f(t,x[k], u))*T/n + h(x[k][-1])\n",
    "    J/= M\n",
    "    loss = np.sum((np.square(h_x(x[:,-1]) + p[:,-1])))/M\n",
    "    theta , p[0] = theta - nu * gradient_loss\n",
    "\n",
    "#returns 4-tuple processes (x, u, p , q)_t\n",
    "\"\"\"\"\"\n",
    "        \n",
    "    \n",
    "    \n",
    "    "
   ]
  }
 ],
 "metadata": {
  "kernelspec": {
   "display_name": "Python 3 (ipykernel)",
   "language": "python",
   "name": "python3"
  },
  "language_info": {
   "codemirror_mode": {
    "name": "ipython",
    "version": 3
   },
   "file_extension": ".py",
   "mimetype": "text/x-python",
   "name": "python",
   "nbconvert_exporter": "python",
   "pygments_lexer": "ipython3",
   "version": "3.11.4"
  }
 },
 "nbformat": 4,
 "nbformat_minor": 5
}
